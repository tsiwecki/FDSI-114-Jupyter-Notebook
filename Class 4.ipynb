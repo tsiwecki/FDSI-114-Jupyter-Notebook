{
 "cells": [
  {
   "cell_type": "markdown",
   "id": "8a70651d",
   "metadata": {},
   "source": [
    "# Given a string of opening and closing parentheses, check whether it's  balanced. We have 3 types of parentheses: round brackets: (), square brackets: [], and curly brackets: {}.\n",
    "\n",
    "# Assumes that the string doesn't contain any other character than these, words or numbers.\n",
    "\n",
    "# As a reminder, balanced parentheses require every opening parentheses to be closed in the reerse order opened.\n",
    "\n",
    "# For example, '([])' is balanced but '([)]' is not.\n",
    "\n",
    "# You can assume the input string has no spaces.\n",
    "\n"
   ]
  },
  {
   "cell_type": "code",
   "execution_count": 3,
   "id": "80eacab2",
   "metadata": {},
   "outputs": [
    {
     "ename": "SyntaxError",
     "evalue": "closing parenthesis ']' does not match opening parenthesis '(' (95657687.py, line 23)",
     "output_type": "error",
     "traceback": [
      "\u001b[0;36m  File \u001b[0;32m\"/tmp/ipykernel_160/95657687.py\"\u001b[0;36m, line \u001b[0;32m23\u001b[0m\n\u001b[0;31m    matches = set([(\"(\", \")\", (\"[\", \"]\"), (\"{\", \"}\")]\u001b[0m\n\u001b[0m                                                    ^\u001b[0m\n\u001b[0;31mSyntaxError\u001b[0m\u001b[0;31m:\u001b[0m closing parenthesis ']' does not match opening parenthesis '('\n"
     ]
    }
   ],
   "source": [
    "# Declare a variable to see if its balanced\n",
    "# Check to see if the string has an even number of character so we can make the \n",
    "# complexity (1).\n",
    "# Return False when the previous line results True\n",
    "# Create a set of opening brackets.\n",
    "# Create a set of tuples representing every valid combination between an opening bracket and \n",
    "# closing bracket.\n",
    "# Initialize stack class.\n",
    "# The for loop begins ti iterate over each character in our variable.\n",
    "# Here paren is \"(\".\n",
    "# The Value of paren to the stack if the previous is true.\n",
    "# Now the paren will be \"[\".\n",
    "# The value of paren will be added to our stack becauseit exist in opening.\n",
    "# \n",
    "\n",
    "\n",
    "\n",
    "\n",
    "def balance_check(s):\n",
    "    if len(s)%2 != 0:\n",
    "        return False\n",
    "    opening = set(\"([{')\")\n",
    "    matches = set([(\"(\", \")\", (\"[\", \"]\"), (\"{\", \"}\")]\n",
    "    stack = STACK()\n",
    "    for paren in s:\n",
    "        if paren in opening:\n",
    "            stack.push(paren)\n",
    "        else:\n",
    "            if stack.is_empty():\n",
    "                returm False\n",
    "            last_open = stack.pop()\n",
    "            if (last_open, paren) not in matches:\n",
    "    return stack.is_empty()\n",
    "                    "
   ]
  },
  {
   "cell_type": "code",
   "execution_count": null,
   "id": "6affa241",
   "metadata": {},
   "outputs": [],
   "source": [
    "balance_check"
   ]
  },
  {
   "cell_type": "code",
   "execution_count": null,
   "id": "bb11147d",
   "metadata": {},
   "outputs": [],
   "source": []
  },
  {
   "cell_type": "code",
   "execution_count": 15,
   "id": "b88899a7",
   "metadata": {},
   "outputs": [
    {
     "ename": "SyntaxError",
     "evalue": "invalid syntax (1875777092.py, line 1)",
     "output_type": "error",
     "traceback": [
      "\u001b[0;36m  File \u001b[0;32m\"/tmp/ipykernel_160/1875777092.py\"\u001b[0;36m, line \u001b[0;32m1\u001b[0m\n\u001b[0;31m    de fact(n):\u001b[0m\n\u001b[0m       ^\u001b[0m\n\u001b[0;31mSyntaxError\u001b[0m\u001b[0;31m:\u001b[0m invalid syntax\n"
     ]
    }
   ],
   "source": [
    "de fact(n):\n",
    "    if n == 0:\n",
    "        return 1\n",
    "    return n*fact(n-1)"
   ]
  },
  {
   "cell_type": "code",
   "execution_count": 14,
   "id": "1135c709",
   "metadata": {},
   "outputs": [],
   "source": [
    "from functools import lru_cache\n",
    "\n",
    "@lru_cache\n",
    "def fib(n):\n",
    "    if n < 2:  # base case\n",
    "        return n\n",
    "    return fib(n-1) + fib(n-2)"
   ]
  },
  {
   "cell_type": "code",
   "execution_count": 5,
   "id": "936afa77",
   "metadata": {},
   "outputs": [
    {
     "data": {
      "text/plain": [
       "55"
      ]
     },
     "execution_count": 5,
     "metadata": {},
     "output_type": "execute_result"
    }
   ],
   "source": [
    "fib(10)"
   ]
  },
  {
   "cell_type": "code",
   "execution_count": 6,
   "id": "8b4c2795",
   "metadata": {},
   "outputs": [
    {
     "data": {
      "text/plain": [
       "21"
      ]
     },
     "execution_count": 6,
     "metadata": {},
     "output_type": "execute_result"
    }
   ],
   "source": [
    "fib(8)"
   ]
  },
  {
   "cell_type": "code",
   "execution_count": null,
   "id": "4cd94173",
   "metadata": {},
   "outputs": [],
   "source": []
  }
 ],
 "metadata": {
  "kernelspec": {
   "display_name": "Python 3 (ipykernel)",
   "language": "python",
   "name": "python3"
  },
  "language_info": {
   "codemirror_mode": {
    "name": "ipython",
    "version": 3
   },
   "file_extension": ".py",
   "mimetype": "text/x-python",
   "name": "python",
   "nbconvert_exporter": "python",
   "pygments_lexer": "ipython3",
   "version": "3.8.10"
  }
 },
 "nbformat": 4,
 "nbformat_minor": 5
}
