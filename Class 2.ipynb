{
 "cells": [
  {
   "cell_type": "code",
   "execution_count": null,
   "id": "828b3838",
   "metadata": {},
   "outputs": [],
   "source": [
    "# Solve the folloeing Coding Challenges\n",
    "\n",
    "# 1. Giben a string, write a function that uses recursion to reverse it.\n",
    "\n",
    "# 2. Given a list of intergers, write a function that will return a list, in whichfor each indexthe element will be \n",
    "# product of all the intergers except for the element at the index.\n",
    "\n",
    "## For example, an inut of [1, 2, 3, 4] would return [24, 12, 8, 6] by performing [2x3x4, 1x3x4, 1x2x4, 1x2x3].\n",
    "\n",
    "## You cannot use division in your answer! Meaning you can't simply multiply all the numbers and then divide by each element"
   ]
  },
  {
   "cell_type": "code",
   "execution_count": 26,
   "id": "8fb23af9",
   "metadata": {},
   "outputs": [],
   "source": [
    "# function(string mystring)\n",
    "#     check if mystring is empty\n",
    "#        if the length of mystring is 1:\n",
    "#             return mystring\n",
    "#        else:\n",
    "#           take the last character and add it to the result of this function calling itself\n",
    "\n",
    "def reverse(mystring):\n",
    "    if len(mystring) == 1:\n",
    "        return mystring\n",
    "    last_char = mystring[len(mystring)-1]\n",
    "#     mystring = \"\".join([mystring[i] for i in range(len(mystring)-1)])\n",
    "    return last_char + reverse(mystring[:-1])"
   ]
  },
  {
   "cell_type": "code",
   "execution_count": 27,
   "id": "e979df1a",
   "metadata": {},
   "outputs": [
    {
     "name": "stdout",
     "output_type": "stream",
     "text": [
      "ikcewis\n"
     ]
    }
   ],
   "source": [
    "print(reverse(\"siwecki\"))"
   ]
  },
  {
   "cell_type": "code",
   "execution_count": null,
   "id": "6e0a1fba",
   "metadata": {},
   "outputs": [],
   "source": [
    "# function(list numbers):\n",
    "#    list mynewlist of length (numbers) = [1, 1, ...1]\n",
    "#    for each index in numbers:\n",
    "#        for each index2 in numbers:\n",
    "#        add 1 to my newlist\n",
    "#            if index and index2 arre different:\n",
    "#            mynewlist[index] = mynewlist[index]*mynewlist[index2]\n",
    "#    return mynewlist"
   ]
  },
  {
   "cell_type": "code",
   "execution_count": 22,
   "id": "d4b35fee",
   "metadata": {},
   "outputs": [],
   "source": [
    "def products(numbers):                                                    # numbers = [1, 2, 3, 4]\n",
    "    mynewlist = []\n",
    "    for index in range(len(numbers)):                                     # index = 0,1\n",
    "        mynewlist.append(1)                                               # mynewlist = [24, 1]\n",
    "        for index2 in range(len(numbers)):                                # index2 = 0, 1, 2\n",
    "            if index != index2:                                           # \n",
    "                mynewlist[index] *= numbers[index2]                       # [mynewlist = [24, 1*1*3*4 ]\n",
    "    return mynewlist"
   ]
  },
  {
   "cell_type": "code",
   "execution_count": 23,
   "id": "dbad994d",
   "metadata": {},
   "outputs": [
    {
     "name": "stdout",
     "output_type": "stream",
     "text": [
      "[24, 12, 8, 6]\n"
     ]
    }
   ],
   "source": [
    "print(products([1, 2, 3, 4]))"
   ]
  },
  {
   "cell_type": "code",
   "execution_count": 6,
   "id": "79a00067",
   "metadata": {},
   "outputs": [],
   "source": [
    "class Stack:\n",
    "    def __init__(self):\n",
    "        self.items = []\n",
    "        \n",
    "    def is_empty(self):\n",
    "        return self.items == []\n",
    "    \n",
    "    def push(self, item):\n",
    "        self.items.append(item)\n",
    "        \n",
    "    def pop(self):\n",
    "        return self.items.pop()\n",
    "    \n",
    "    def peek(self):\n",
    "        return self.items[len(self.items)-1]\n",
    "    \n",
    "    def size(self):\n",
    "            return len(self.items)"
   ]
  },
  {
   "cell_type": "code",
   "execution_count": 8,
   "id": "46abe280",
   "metadata": {},
   "outputs": [],
   "source": [
    "def reverse_str(string):\n",
    "    # Must use the stack class above.\n",
    "    stack = Stack() \n",
    "    new_string = \"\"\n",
    "    for letter in string:\n",
    "        stack.push(letter)\n",
    "    while not stack.is_empty():\n",
    "        new_string += stack.pop()\n",
    "    return new_string"
   ]
  },
  {
   "cell_type": "code",
   "execution_count": 9,
   "id": "a746ebcf",
   "metadata": {},
   "outputs": [
    {
     "data": {
      "text/plain": [
       "'daht'"
      ]
     },
     "execution_count": 9,
     "metadata": {},
     "output_type": "execute_result"
    }
   ],
   "source": [
    "reverse_str(\"thad\")"
   ]
  },
  {
   "cell_type": "code",
   "execution_count": 19,
   "id": "a21c2108",
   "metadata": {},
   "outputs": [],
   "source": [
    "class Queue:\n",
    "    def __init__(self):\n",
    "        self.items = []\n",
    "        \n",
    "    def is_empty(self):\n",
    "        return self.items == []\n",
    "    \n",
    "    def enqueue(self, item):\n",
    "        self.items.insert(0, item)\n",
    "        \n",
    "    def dequeue(self):\n",
    "        return self.items.pop()\n",
    "    \n",
    "    def size(self):\n",
    "        return len(self.items)"
   ]
  },
  {
   "cell_type": "code",
   "execution_count": 20,
   "id": "8a65a3fa",
   "metadata": {},
   "outputs": [],
   "source": [
    "from string import ascii_lowercase\n",
    "from random import randint, choice\n",
    "from time import sleep\n",
    "\n",
    "def register_visitors(visitor_queue):\n",
    "    for char in ascii_lowercase:\n",
    "        visitor_queue.enqueue(char)                                              # todo: Enquiui visitors\n",
    "    \n",
    "def service_customers(visitor_queue):\n",
    "    bank_tellers = [\"A\", \"B\", \"C\", \"D\", \"E\", \"F\", \"G\"]\n",
    "    while not visitor_queue.is_empty():                                          # make sure this works\n",
    "        visitor = visitor_queue.dequeue()                                        # Todo: Dequeue a visitor\n",
    "        print(\"Thank you for waiting %s, station %s is ready for you.\"\n",
    "                % (visitor, choice(bank_tellers)))\n",
    "        sleep(randint(1, 2))\n",
    "    print(\"Empty visitor queue.\")\n",
    "    \n",
    "def main():\n",
    "    visitor_queue = Queue()\n",
    "    register_visitors(visitor_queue)                                             # This should populate our queue\n",
    "    service_customers(visitor_queue)\n",
    "        "
   ]
  },
  {
   "cell_type": "code",
   "execution_count": 21,
   "id": "7e2c44f9",
   "metadata": {},
   "outputs": [
    {
     "name": "stdout",
     "output_type": "stream",
     "text": [
      "Thank you for waiting a, station C is ready for you.\n",
      "Thank you for waiting b, station E is ready for you.\n",
      "Thank you for waiting c, station G is ready for you.\n",
      "Thank you for waiting d, station F is ready for you.\n",
      "Thank you for waiting e, station C is ready for you.\n",
      "Thank you for waiting f, station F is ready for you.\n",
      "Thank you for waiting g, station E is ready for you.\n",
      "Thank you for waiting h, station E is ready for you.\n",
      "Thank you for waiting i, station G is ready for you.\n",
      "Thank you for waiting j, station G is ready for you.\n",
      "Thank you for waiting k, station B is ready for you.\n",
      "Thank you for waiting l, station B is ready for you.\n",
      "Thank you for waiting m, station C is ready for you.\n",
      "Thank you for waiting n, station B is ready for you.\n",
      "Thank you for waiting o, station E is ready for you.\n",
      "Thank you for waiting p, station F is ready for you.\n",
      "Thank you for waiting q, station B is ready for you.\n",
      "Thank you for waiting r, station C is ready for you.\n",
      "Thank you for waiting s, station E is ready for you.\n",
      "Thank you for waiting t, station G is ready for you.\n",
      "Thank you for waiting u, station D is ready for you.\n",
      "Thank you for waiting v, station B is ready for you.\n",
      "Thank you for waiting w, station G is ready for you.\n",
      "Thank you for waiting x, station G is ready for you.\n",
      "Thank you for waiting y, station A is ready for you.\n",
      "Thank you for waiting z, station F is ready for you.\n",
      "Empty visitor queue.\n"
     ]
    }
   ],
   "source": [
    "main()"
   ]
  },
  {
   "cell_type": "code",
   "execution_count": null,
   "id": "7850f0a0",
   "metadata": {},
   "outputs": [],
   "source": []
  }
 ],
 "metadata": {
  "kernelspec": {
   "display_name": "Python 3 (ipykernel)",
   "language": "python",
   "name": "python3"
  },
  "language_info": {
   "codemirror_mode": {
    "name": "ipython",
    "version": 3
   },
   "file_extension": ".py",
   "mimetype": "text/x-python",
   "name": "python",
   "nbconvert_exporter": "python",
   "pygments_lexer": "ipython3",
   "version": "3.8.10"
  }
 },
 "nbformat": 4,
 "nbformat_minor": 5
}
