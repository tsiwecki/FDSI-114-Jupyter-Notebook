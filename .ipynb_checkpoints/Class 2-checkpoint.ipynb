{
 "cells": [
  {
   "cell_type": "code",
   "execution_count": null,
   "id": "e3ad3260",
   "metadata": {},
   "outputs": [],
   "source": [
    "# Solve the folloeing Coding Challenges\n",
    "\n",
    "# 1. Giben a string, write a function that uses recursion to reverse it.\n",
    "\n",
    "# 2. Given a list of intergers, write a function that will return a list, in whichfor each indexthe element will be \n",
    "# product of all the intergers except for the element at the index.\n",
    "\n",
    "## For example, an inut of [1, 2, 3, 4] would return [24, 12, 8, 6] by performing [2x3x4, 1x3x4, 1x2x4, 1x2x3].\n",
    "\n",
    "## You cannot use division in your answer! Meaning you can't simply multiply all the numbers and then divide by each element"
   ]
  },
  {
   "cell_type": "code",
   "execution_count": null,
   "id": "785ce74d",
   "metadata": {},
   "outputs": [],
   "source": []
  },
  {
   "cell_type": "code",
   "execution_count": null,
   "id": "a794905b",
   "metadata": {},
   "outputs": [],
   "source": [
    "# function(list numbers):\n",
    "#    list mynewlist of length (numbers) = [1, 1, ...1]\n",
    "#    for each index in numbers:\n",
    "#        for each index2 in numbers:\n",
    "#        add 1 to my newlist\n",
    "#            if index and index2 arre different:\n",
    "#            mynewlist[index] = mynewlist[index]*mynewlist[index2]\n",
    "#    return mynewlist"
   ]
  },
  {
   "cell_type": "code",
   "execution_count": 3,
   "id": "16019f56",
   "metadata": {},
   "outputs": [],
   "source": [
    "def products(numbers):                                                    # numbers = [1, 2, 3, 4]\n",
    "    mynewlist = []\n",
    "    for index in range(len(numbers)):                                     # index = 0,1\n",
    "        mynewlist.append(1)                                               # mynewlist = [24, 1]\n",
    "        for index2 in range(numbers):                                     # index2 = 0, 1, 2\n",
    "            if index != index2:                                           # \n",
    "                mynewlist[index] *= numbers[index2]                       # [mynewlist = [24, 1*1*3*4 ]\n",
    "    return mynewlist"
   ]
  },
  {
   "cell_type": "code",
   "execution_count": 4,
   "id": "8b6eb240",
   "metadata": {},
   "outputs": [
    {
     "ename": "TypeError",
     "evalue": "'list' object cannot be interpreted as an integer",
     "output_type": "error",
     "traceback": [
      "\u001b[0;31m---------------------------------------------------------------------------\u001b[0m",
      "\u001b[0;31mTypeError\u001b[0m                                 Traceback (most recent call last)",
      "\u001b[0;32m/tmp/ipykernel_183/838569875.py\u001b[0m in \u001b[0;36m<module>\u001b[0;34m\u001b[0m\n\u001b[0;32m----> 1\u001b[0;31m \u001b[0mprint\u001b[0m\u001b[0;34m(\u001b[0m\u001b[0mproducts\u001b[0m\u001b[0;34m(\u001b[0m\u001b[0;34m[\u001b[0m\u001b[0;36m1\u001b[0m\u001b[0;34m,\u001b[0m \u001b[0;36m2\u001b[0m\u001b[0;34m,\u001b[0m \u001b[0;36m3\u001b[0m\u001b[0;34m,\u001b[0m \u001b[0;36m4\u001b[0m\u001b[0;34m]\u001b[0m\u001b[0;34m)\u001b[0m\u001b[0;34m)\u001b[0m\u001b[0;34m\u001b[0m\u001b[0;34m\u001b[0m\u001b[0m\n\u001b[0m",
      "\u001b[0;32m/tmp/ipykernel_183/1689915312.py\u001b[0m in \u001b[0;36mproducts\u001b[0;34m(numbers)\u001b[0m\n\u001b[1;32m      3\u001b[0m     \u001b[0;32mfor\u001b[0m \u001b[0mindex\u001b[0m \u001b[0;32min\u001b[0m \u001b[0mrange\u001b[0m\u001b[0;34m(\u001b[0m\u001b[0mlen\u001b[0m\u001b[0;34m(\u001b[0m\u001b[0mnumbers\u001b[0m\u001b[0;34m)\u001b[0m\u001b[0;34m)\u001b[0m\u001b[0;34m:\u001b[0m                                     \u001b[0;31m# index = 0,1\u001b[0m\u001b[0;34m\u001b[0m\u001b[0;34m\u001b[0m\u001b[0m\n\u001b[1;32m      4\u001b[0m         \u001b[0mmynewlist\u001b[0m\u001b[0;34m.\u001b[0m\u001b[0mappend\u001b[0m\u001b[0;34m(\u001b[0m\u001b[0;36m1\u001b[0m\u001b[0;34m)\u001b[0m                                               \u001b[0;31m# mynewlist = [24, 1]\u001b[0m\u001b[0;34m\u001b[0m\u001b[0;34m\u001b[0m\u001b[0m\n\u001b[0;32m----> 5\u001b[0;31m         \u001b[0;32mfor\u001b[0m \u001b[0mindex2\u001b[0m \u001b[0;32min\u001b[0m \u001b[0mrange\u001b[0m\u001b[0;34m(\u001b[0m\u001b[0mnumbers\u001b[0m\u001b[0;34m)\u001b[0m\u001b[0;34m:\u001b[0m                                     \u001b[0;31m# index2 = 0, 1, 2\u001b[0m\u001b[0;34m\u001b[0m\u001b[0;34m\u001b[0m\u001b[0m\n\u001b[0m\u001b[1;32m      6\u001b[0m             \u001b[0;32mif\u001b[0m \u001b[0mindex\u001b[0m \u001b[0;34m!=\u001b[0m \u001b[0mindex2\u001b[0m\u001b[0;34m:\u001b[0m                                           \u001b[0;31m#\u001b[0m\u001b[0;34m\u001b[0m\u001b[0;34m\u001b[0m\u001b[0m\n\u001b[1;32m      7\u001b[0m                 \u001b[0mmynewlist\u001b[0m\u001b[0;34m[\u001b[0m\u001b[0mindex\u001b[0m\u001b[0;34m]\u001b[0m \u001b[0;34m*=\u001b[0m \u001b[0mnumbers\u001b[0m\u001b[0;34m[\u001b[0m\u001b[0mindex2\u001b[0m\u001b[0;34m]\u001b[0m                       \u001b[0;31m# [mynewlist = [24, 1*1*3*4 ]\u001b[0m\u001b[0;34m\u001b[0m\u001b[0;34m\u001b[0m\u001b[0m\n",
      "\u001b[0;31mTypeError\u001b[0m: 'list' object cannot be interpreted as an integer"
     ]
    }
   ],
   "source": [
    "print(products([1, 2, 3, 4]))"
   ]
  },
  {
   "cell_type": "code",
   "execution_count": null,
   "id": "8b928448",
   "metadata": {},
   "outputs": [],
   "source": [
    "class Stack:\n",
    "    def __init__(self):\n",
    "        self.items = []\n",
    "        \n",
    "    def is_empty(self):\n",
    "        return self.items == []\n",
    "    \n",
    "    def push(self, item):\n",
    "        self.items.append(item)\n",
    "        \n",
    "    def pop(self):\n",
    "        return self.items.pop()\n",
    "    \n",
    "    def peek(self):\n",
    "        return self.items[len(self.items)-1]\n",
    "    \n",
    "    def size(self):\n",
    "            return len(self.items)"
   ]
  },
  {
   "cell_type": "code",
   "execution_count": null,
   "id": "776eab30",
   "metadata": {},
   "outputs": [],
   "source": []
  }
 ],
 "metadata": {
  "kernelspec": {
   "display_name": "Python 3 (ipykernel)",
   "language": "python",
   "name": "python3"
  },
  "language_info": {
   "codemirror_mode": {
    "name": "ipython",
    "version": 3
   },
   "file_extension": ".py",
   "mimetype": "text/x-python",
   "name": "python",
   "nbconvert_exporter": "python",
   "pygments_lexer": "ipython3",
   "version": "3.8.10"
  }
 },
 "nbformat": 4,
 "nbformat_minor": 5
}
