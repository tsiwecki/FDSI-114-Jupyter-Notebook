{
 "cells": [
  {
   "cell_type": "markdown",
   "id": "ad469ef8",
   "metadata": {},
   "source": [
    "for letter in \"hello, world!\":\n",
    "    print(letter)"
   ]
  },
  {
   "cell_type": "raw",
   "id": "65bd5e66",
   "metadata": {},
   "source": []
  },
  {
   "cell_type": "markdown",
   "id": "4bd9cf95",
   "metadata": {},
   "source": [
    "#Problem 1\n",
    "\n",
    "### Given two strins (sting_a and string_b) lets check whether or not they are anagrams of each pther given the following criterai:\n",
    "\n",
    ">Two strings are only anagrams of each other if all conditions below are meet:\n",
    ">* They must be exdactly the same length,\n",
    ">* They must use exactly the same characters (no more, no less)\n",
    "Example: cars and scar, heart and earth, etc."
   ]
  },
  {
   "cell_type": "code",
   "execution_count": 13,
   "id": "62555e6c",
   "metadata": {},
   "outputs": [],
   "source": [
    "def is_anagram(string_a, string_b):\n",
    "    if len(string_a) != len(string_b):                      #covering the length case\n",
    "        return False                                        # Simple edge case\n",
    "    char_times_a = dict()                                   # Let's use two dictionaries to count\n",
    "    char_times_b = dict()                                   # We are counting the number of occurances per char\n",
    "    for i in range(len(string_a)):                          # Because we know these are of equal length\n",
    "        if string_a[i] not in char_times_a.keys():          # We can simply count how many times we see each char\n",
    "            char_times_a[string_a[i]] = 0                   \n",
    "        else:                                               \n",
    "            char_times_a[string_a[i]] += 1                  \n",
    "        if string_b[i] not in char_times_b.keys():\n",
    "            char_times_b[string_b[i]] = 0                   # It doesn't matter that these areaccessing different chars\n",
    "        else:                                               # that i is accessing, as long as the final return statementis\n",
    "            char_times_b[string_b[i]] += 1                  # equal\n",
    "    return char_times_a == char_times_b\n",
    "            \n",
    "    "
   ]
  },
  {
   "cell_type": "code",
   "execution_count": 12,
   "id": "ef30cfd6",
   "metadata": {},
   "outputs": [
    {
     "data": {
      "text/plain": [
       "True"
      ]
     },
     "execution_count": 12,
     "metadata": {},
     "output_type": "execute_result"
    }
   ],
   "source": [
    "is_anagram(\"cars\", \"scar\")"
   ]
  },
  {
   "cell_type": "code",
   "execution_count": 15,
   "id": "5200cf41",
   "metadata": {},
   "outputs": [
    {
     "data": {
      "text/plain": [
       "False"
      ]
     },
     "execution_count": 15,
     "metadata": {},
     "output_type": "execute_result"
    }
   ],
   "source": [
    "is_anagram(\"scar\", \"sccr\")"
   ]
  },
  {
   "cell_type": "code",
   "execution_count": null,
   "id": "11323094",
   "metadata": {},
   "outputs": [],
   "source": []
  },
  {
   "cell_type": "code",
   "execution_count": 25,
   "id": "a8666123",
   "metadata": {},
   "outputs": [],
   "source": [
    "def is_anagram(string_a, string_b):\n",
    "    string_a = string_a.replace(\" \", \"\")                     # Removing the spaces\n",
    "    string_b = string_b.replace(\" \", \"\")\n",
    "    if len(string_a) != len(string_b):                      # Covering the length case\n",
    "        return False                                        # Simple edge case\n",
    "    string_a = string_a.lower()                             # Making all letters lower case\n",
    "    string_b = string_b.lower()                             \n",
    "    char_times_a = dict()                                   # Let's use two dictionaries to count\n",
    "    char_times_b = dict()                                   # We are counting the number of occurances per char\n",
    "    for i in range(len(string_a)):                          # Because we know these are of equal length\n",
    "        if string_a[i] not in char_times_a.keys():          # We can simply count how many times we see each char\n",
    "            char_times_a[string_a[i]] = 0                   \n",
    "        else:                                               \n",
    "            char_times_a[string_a[i]] += 1                  \n",
    "        if string_b[i] not in char_times_b.keys():\n",
    "            char_times_b[string_b[i]] = 0                   # It doesn't matter that these areaccessing different chars\n",
    "        else:                                               # that i is accessing, as long as the final return statementis\n",
    "            char_times_b[string_b[i]] += 1                  # equal\n",
    "    return char_times_a == char_times_b\n",
    "            \n",
    "    "
   ]
  },
  {
   "cell_type": "code",
   "execution_count": 26,
   "id": "b45eb5db",
   "metadata": {},
   "outputs": [
    {
     "data": {
      "text/plain": [
       "True"
      ]
     },
     "execution_count": 26,
     "metadata": {},
     "output_type": "execute_result"
    }
   ],
   "source": [
    "is_anagram(\"I  am  lord  voldemort\", \"Tom Marvolo Riddle\")"
   ]
  },
  {
   "cell_type": "code",
   "execution_count": null,
   "id": "916eb5dd",
   "metadata": {},
   "outputs": [],
   "source": []
  }
 ],
 "metadata": {
  "kernelspec": {
   "display_name": "Python 3 (ipykernel)",
   "language": "python",
   "name": "python3"
  },
  "language_info": {
   "codemirror_mode": {
    "name": "ipython",
    "version": 3
   },
   "file_extension": ".py",
   "mimetype": "text/x-python",
   "name": "python",
   "nbconvert_exporter": "python",
   "pygments_lexer": "ipython3",
   "version": "3.8.10"
  }
 },
 "nbformat": 4,
 "nbformat_minor": 5
}
